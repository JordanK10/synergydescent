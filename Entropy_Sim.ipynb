{
 "cells": [
  {
   "cell_type": "code",
   "execution_count": 1,
   "metadata": {},
   "outputs": [],
   "source": [
    "import numpy as np\n",
    "import pandas as pd\n",
    "from pynverse import inversefunc"
   ]
  },
  {
   "cell_type": "code",
   "execution_count": 2,
   "metadata": {},
   "outputs": [],
   "source": [
    "def probability_to_entropy(probability):\n",
    "    \"\"\"Entropy of a binomial system\n",
    "    \n",
    "    Inputs:\n",
    "    probability (float)\n",
    "    \n",
    "    Outputs:\n",
    "    entropy (float)\"\"\"\n",
    "\n",
    "    entropy = - probability*(np.log(probability)) - (1-probability)*(np.log(1-probability))\n",
    "\n",
    "    return entropy\n",
    "\n",
    "def entropy_to_probability(entropy):\n",
    "\n",
    "    \"\"\"Gives the probability of getting a correct answer given the entropy experienced by an agent\n",
    "    \n",
    "    Inputs:\n",
    "    entropy (float)\n",
    "    \n",
    "    Outputs:\n",
    "    probability (float)\"\"\"\n",
    "    assert 0 <= entropy <= np.log(2)\n",
    "\n",
    "    probability = inversefunc(probability_to_entropy, y_values=entropy, domain=[0.5, 0.99999])\n",
    "\n",
    "    return probability\n"
   ]
  },
  {
   "cell_type": "code",
   "execution_count": null,
   "metadata": {},
   "outputs": [],
   "source": [
    "num_agents = 2\n",
    "\n",
    "assert type(num_agents) == int\n",
    "\n",
    "matrix_dims = tuple(2 for i in range(num_agents))\n",
    "\n",
    "information_matrix = np.zeros(matrix_dims)\n",
    "\n",
    "information_matrix = [[0, 0.5], [0.5, 0.8]]\n",
    "\n",
    "# This matrix encodes the information contained in each combination of signals. For example, the value at location 101 would indicate the information contained in the combination of the first and third signal\n",
    "\n",
    "vectorized_entropy_to_probability = np.vectorize(entropy_to_probability)\n",
    "\n",
    "probability_matrix = vectorized_entropy_to_probability(information_matrix)"
   ]
  },
  {
   "cell_type": "code",
   "execution_count": 5,
   "metadata": {},
   "outputs": [],
   "source": [
    "simulation_length = 100\n",
    "agent_probabilities = np.zeros((simulation_length))\n",
    "agent_wagers = np.zeros((simulation_length))\n",
    "\n",
    "rewards = (0,2)\n",
    "\n",
    "def kelly_betting(rewards, probability):\n",
    "    f = (probability/(1-rewards[0])) - (1-probability)/(rewards[1]-1)\n",
    "    return f\n",
    "\n",
    "def simulate_wealth_step(agent_probabilities, agent_wagers, original_wealth, rewards = (0,2)): \n",
    "    rand = np.random.rand(1)\n",
    "    if agent_probabilities > rand:\n",
    "        new_wealth = (original_wealth+agent_wagers*(rewards[1]-1))\n",
    "    else:\n",
    "        new_wealth = (original_wealth+agent_wagers*(rewards[0]-1))\n",
    "    return new_wealth\n",
    "\n",
    "\n",
    "def simulate_wealth_progression(simulation_length, agent_probabilities, agent_wagers, rewards = (0,2)): \n",
    "    random_vector = np.random.rand(simulation_length)\n",
    "    agent_wealth = [1]\n",
    "    for i in range(simulation_length):\n",
    "        if agent_probabilities[i] > random_vector[i]:\n",
    "            agent_wealth.append(agent_wealth[i]+agent_wagers*(rewards[1]-1))\n",
    "        else:\n",
    "            agent_wealth.append(agent_wealth[i]+agent_wagers*(rewards[0]-1))"
   ]
  },
  {
   "cell_type": "code",
   "execution_count": 7,
   "metadata": {},
   "outputs": [
    {
     "name": "stdout",
     "output_type": "stream",
     "text": [
      "0.8\n"
     ]
    }
   ],
   "source": [
    "bets = kelly_betting(rewards, 0.9)\n",
    "print(bets)"
   ]
  }
 ],
 "metadata": {
  "kernelspec": {
   "display_name": "base",
   "language": "python",
   "name": "python3"
  },
  "language_info": {
   "codemirror_mode": {
    "name": "ipython",
    "version": 3
   },
   "file_extension": ".py",
   "mimetype": "text/x-python",
   "name": "python",
   "nbconvert_exporter": "python",
   "pygments_lexer": "ipython3",
   "version": "3.12.7"
  }
 },
 "nbformat": 4,
 "nbformat_minor": 2
}
